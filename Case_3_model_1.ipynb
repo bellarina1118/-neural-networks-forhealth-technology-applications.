{
 "cells": [
  {
   "cell_type": "markdown",
   "metadata": {},
   "source": [
    "<h1>Table of Contents<span class=\"tocSkip\"></span></h1>\n",
    "<div class=\"toc\"><ul class=\"toc-item\"><li><span><a href=\"#Case-3:-Patient Drug Review-(Model-1)\" data-toc-modified-id=\"Case-3:-Patient Drug Review\"><span class=\"toc-item-num\">1&nbsp;&nbsp;</span>Case 2: Pneumonia X-ray image analysis</a></span></li><li><span><a href=\"#Background\" data-toc-modified-id=\"Background-2\"><span class=\"toc-item-num\">2&nbsp;&nbsp;</span>Background</a></span></li><li><span><a href=\"#Data\" data-toc-modified-id=\"Data-3\"><span class=\"toc-item-num\">3&nbsp;&nbsp;</span>Data</a></span></li><li><span><a href=\"#Models-and-training\" data-toc-modified-id=\"Models-and-training-4\"><span class=\"toc-item-num\">4&nbsp;&nbsp;</span>Models and training</a></span></li><li><span><a href=\"#Results-and-Discussion\" data-toc-modified-id=\"Results-and-Discussion-5\"><span class=\"toc-item-num\">5&nbsp;&nbsp;</span>Results and Discussion</a></span></li><li><span><a href=\"#Conclusions\" data-toc-modified-id=\"Conclusions-6\"><span class=\"toc-item-num\">6&nbsp;&nbsp;</span>Conclusions</a></span></li></ul></div>"
   ]
  },
  {
   "cell_type": "markdown",
   "metadata": {},
   "source": [
    "# Case 3: Patient Drug Review (Model 1)\n",
    "Team 16:\n",
    "1. Bellarina Chew\n",
    "2. Nik Adam Nik Joharris\n",
    "3. Valentin Dassin<br>\n",
    "\n",
    "Last modified: 19.03.2020<br>\n",
    "Neural Networks for Health Technology Applications\n",
    "[Helsinki Metropolia University of Applied Sciences](http://www.metropolia.fi/en/)<br>"
   ]
  },
  {
   "cell_type": "markdown",
   "metadata": {},
   "source": [
    "## Background\n",
    "The aim of this notebook is to learn to use neural networks in machine-learning problems involving text data from https://www.kaggle.com/jessicali9530/kuc-hackathon-winter-2018/home <br>"
   ]
  },
  {
   "cell_type": "markdown",
   "metadata": {},
   "source": [
    "## Data\n",
    "The dataset used is a dataset of patient drug reviews extracted from https://www.drugs.com/ <br>"
   ]
  },
  {
   "cell_type": "code",
   "execution_count": 1,
   "metadata": {},
   "outputs": [
    {
     "name": "stdout",
     "output_type": "stream",
     "text": [
      "Populating the interactive namespace from numpy and matplotlib\n",
      "['drugsComTest_raw.csv', 'drugsComTrain_raw.csv']\n"
     ]
    },
    {
     "data": {
      "text/plain": [
       "'2.0.0'"
      ]
     },
     "execution_count": 1,
     "metadata": {},
     "output_type": "execute_result"
    }
   ],
   "source": [
    "# Read the basic libraries (similar start as in Kaggle kernels)\n",
    "%pylab inline\n",
    "import time # for timing\n",
    "import numpy as np # linear algebra\n",
    "import pandas as pd # data processing, CSV file I/O (e.g. pd.read_csv)\n",
    "import tensorflow as tf\n",
    "from tensorflow.keras import preprocessing\n",
    "from sklearn.model_selection import train_test_split # preprocessing datasets\n",
    "from tensorflow.keras.preprocessing.text import Tokenizer # text preprocessing\n",
    "from tensorflow.keras.preprocessing.sequence import pad_sequences # text preprocessing\n",
    "from tensorflow.keras.models import Sequential # modeling neural networks\n",
    "from tensorflow.keras.layers import Embedding, Dense, Activation, Conv1D, MaxPooling1D, GlobalMaxPooling1D, Flatten, Dropout # layers for neural networks\n",
    "from tensorflow.keras.utils import to_categorical\n",
    "\n",
    "from sklearn.metrics import confusion_matrix, classification_report, cohen_kappa_score # final metrics\n",
    "\n",
    "# Input data files are available in the \"../input/\" directory.\n",
    "import os\n",
    "print(os.listdir(\"C:/Users/Adam/Desktop/Metropolia UAS/Neural Networks/Data/kuc-hackathon-winter-2018\"))\n",
    "tf.__version__"
   ]
  },
  {
   "cell_type": "markdown",
   "metadata": {},
   "source": [
    "<br>\n",
    "<b>First the data is initialized</b>"
   ]
  },
  {
   "cell_type": "code",
   "execution_count": 2,
   "metadata": {},
   "outputs": [
    {
     "data": {
      "text/html": [
       "<div>\n",
       "<style scoped>\n",
       "    .dataframe tbody tr th:only-of-type {\n",
       "        vertical-align: middle;\n",
       "    }\n",
       "\n",
       "    .dataframe tbody tr th {\n",
       "        vertical-align: top;\n",
       "    }\n",
       "\n",
       "    .dataframe thead th {\n",
       "        text-align: right;\n",
       "    }\n",
       "</style>\n",
       "<table border=\"1\" class=\"dataframe\">\n",
       "  <thead>\n",
       "    <tr style=\"text-align: right;\">\n",
       "      <th></th>\n",
       "      <th>uniqueID</th>\n",
       "      <th>drugName</th>\n",
       "      <th>condition</th>\n",
       "      <th>review</th>\n",
       "      <th>rating</th>\n",
       "      <th>date</th>\n",
       "      <th>usefulCount</th>\n",
       "    </tr>\n",
       "  </thead>\n",
       "  <tbody>\n",
       "    <tr>\n",
       "      <td>0</td>\n",
       "      <td>206461</td>\n",
       "      <td>Valsartan</td>\n",
       "      <td>Left Ventricular Dysfunction</td>\n",
       "      <td>\"It has no side effect, I take it in combinati...</td>\n",
       "      <td>9</td>\n",
       "      <td>20-May-12</td>\n",
       "      <td>27</td>\n",
       "    </tr>\n",
       "    <tr>\n",
       "      <td>1</td>\n",
       "      <td>95260</td>\n",
       "      <td>Guanfacine</td>\n",
       "      <td>ADHD</td>\n",
       "      <td>\"My son is halfway through his fourth week of ...</td>\n",
       "      <td>8</td>\n",
       "      <td>27-Apr-10</td>\n",
       "      <td>192</td>\n",
       "    </tr>\n",
       "    <tr>\n",
       "      <td>2</td>\n",
       "      <td>92703</td>\n",
       "      <td>Lybrel</td>\n",
       "      <td>Birth Control</td>\n",
       "      <td>\"I used to take another oral contraceptive, wh...</td>\n",
       "      <td>5</td>\n",
       "      <td>14-Dec-09</td>\n",
       "      <td>17</td>\n",
       "    </tr>\n",
       "    <tr>\n",
       "      <td>3</td>\n",
       "      <td>138000</td>\n",
       "      <td>Ortho Evra</td>\n",
       "      <td>Birth Control</td>\n",
       "      <td>\"This is my first time using any form of birth...</td>\n",
       "      <td>8</td>\n",
       "      <td>3-Nov-15</td>\n",
       "      <td>10</td>\n",
       "    </tr>\n",
       "    <tr>\n",
       "      <td>4</td>\n",
       "      <td>35696</td>\n",
       "      <td>Buprenorphine / naloxone</td>\n",
       "      <td>Opiate Dependence</td>\n",
       "      <td>\"Suboxone has completely turned my life around...</td>\n",
       "      <td>9</td>\n",
       "      <td>27-Nov-16</td>\n",
       "      <td>37</td>\n",
       "    </tr>\n",
       "  </tbody>\n",
       "</table>\n",
       "</div>"
      ],
      "text/plain": [
       "   uniqueID                  drugName                     condition  \\\n",
       "0    206461                 Valsartan  Left Ventricular Dysfunction   \n",
       "1     95260                Guanfacine                          ADHD   \n",
       "2     92703                    Lybrel                 Birth Control   \n",
       "3    138000                Ortho Evra                 Birth Control   \n",
       "4     35696  Buprenorphine / naloxone             Opiate Dependence   \n",
       "\n",
       "                                              review  rating       date  \\\n",
       "0  \"It has no side effect, I take it in combinati...       9  20-May-12   \n",
       "1  \"My son is halfway through his fourth week of ...       8  27-Apr-10   \n",
       "2  \"I used to take another oral contraceptive, wh...       5  14-Dec-09   \n",
       "3  \"This is my first time using any form of birth...       8   3-Nov-15   \n",
       "4  \"Suboxone has completely turned my life around...       9  27-Nov-16   \n",
       "\n",
       "   usefulCount  \n",
       "0           27  \n",
       "1          192  \n",
       "2           17  \n",
       "3           10  \n",
       "4           37  "
      ]
     },
     "execution_count": 2,
     "metadata": {},
     "output_type": "execute_result"
    }
   ],
   "source": [
    "dftrain = pd.read_csv(\"C:/Users/Adam/Desktop/Metropolia UAS/Neural Networks/Data/kuc-hackathon-winter-2018/drugsComTrain_raw.csv\")\n",
    "dftest = pd.read_csv(\"C:/Users/Adam/Desktop/Metropolia UAS/Neural Networks/Data/kuc-hackathon-winter-2018/drugsComTest_raw.csv\")\n",
    "\n",
    "#show first 5 data set\n",
    "dftrain.head()"
   ]
  },
  {
   "cell_type": "markdown",
   "metadata": {},
   "source": [
    "## Preprocess data \n",
    "\n",
    "### Splitting the data \n",
    "The dataset provided has already separated the training data from the test data. After that, we proceeded to initialize the samples and labels by using the review and rating columns respectively for both training and test data.\n",
    "\n",
    "### Tokenizing the data\n",
    "Tokens were initialized to a maximum of 5000 values. The fit_to_texts was used on to update the internal vocabulary dictionary based on a list of texts. This method creates the vocabulary index based on word frequency. So if you give it something like, \"The cat sat on the mat.\" It will create a dictionary word_index[\"the\"] = 1; word_index[\"cat\"] = 2. Every word gets a unique integer value. 0 is reserved for padding. Hence the lower integer means more frequent word. The texts_to_sequences is used to transform each text in texts to a sequence of integers. So it basically takes each word in the text and replaces it with its corresponding integer value from the word_index dictionary. The sample is then padded using pad_sequences so that all sequences in a list have the same length. <br>"
   ]
  },
  {
   "cell_type": "code",
   "execution_count": 3,
   "metadata": {},
   "outputs": [],
   "source": [
    "# Extract the review and rating columns\n",
    "\n",
    "train_samples = dftrain['review'].values.tolist()\n",
    "train_labels = dftrain['rating'].values\n",
    "test_samples = dftest['review'].values.tolist()\n",
    "test_labels = dftest['rating'].values"
   ]
  },
  {
   "cell_type": "code",
   "execution_count": 4,
   "metadata": {},
   "outputs": [
    {
     "name": "stdout",
     "output_type": "stream",
     "text": [
      "Found 51429 unique tokens.\n"
     ]
    }
   ],
   "source": [
    "# Tokenize the text\n",
    "tokenizer = Tokenizer(num_words = 5000)\n",
    "tokenizer.fit_on_texts(train_samples)\n",
    "\n",
    "# Convert text to sequences\n",
    "train_sequences = tokenizer.texts_to_sequences(train_samples)\n",
    "test_sequences = tokenizer.texts_to_sequences(test_samples)\n",
    "\n",
    "word_index = tokenizer.word_index\n",
    "print('Found %s unique tokens.' % len(word_index))"
   ]
  },
  {
   "cell_type": "code",
   "execution_count": 5,
   "metadata": {},
   "outputs": [
    {
     "name": "stdout",
     "output_type": "stream",
     "text": [
      "[   0    0    0    0    0    0    0    0    0    0    0    0    0    0\n",
      "    0    0    0    0    0    0    0    0    0    0    0    0    0    0\n",
      "    0    0    0    0    0    0    0    0    0    0    0    0    0    0\n",
      "    0    0    0    0    0    0    0    0    0    0    0    0    0    0\n",
      "    0    0    0    0    0    0    0    0    0    0    0    0    0    0\n",
      "    0    0    0    0    0    0    0    0    0    0    0    0    0    0\n",
      "    0    0    0    0    0    0    0    0    0    0    0    0    0    0\n",
      "    0    0    0    0    0    0    0    0    0    0    0    0    0    0\n",
      "    0    0    0    0    0    0    0    0    0    0    0    0    0    0\n",
      "    0    0    0    0    0    0    0    0    0    0    0    0    0    0\n",
      "    0    0    0    0    0    0    0    0    0    0    0    0    0    0\n",
      "    0    0    0    0    0    0    0    0    0    0    0    0    0    0\n",
      "    0    0    0    0    0    0    0    0    0    0    0    0    0    0\n",
      "    0    5   38   28   35  197    1   45    5   15  848   12 2922   99\n",
      "  150    2 3806 1551]\n"
     ]
    }
   ],
   "source": [
    "train_data = pad_sequences(train_sequences, maxlen=200)\n",
    "test_data = pad_sequences(test_sequences, maxlen=200)\n",
    "print(train_data[0])"
   ]
  },
  {
   "cell_type": "markdown",
   "metadata": {},
   "source": [
    "### Converting labels\n",
    "The ratings in the dataset ranges from 0 to 10. As per the assingment's requirements, this was reduced to 3 categories:<br>\n",
    " - label = 0 (positive), when rating > 6<br>\n",
    " - label = 1 (neutral), when rating == 5 or rating ==6<br>\n",
    " - label = 2 (negative), when rating < 5<br>\n",
    " <br>\n",
    "This was done for both train and test data"
   ]
  },
  {
   "cell_type": "code",
   "execution_count": 6,
   "metadata": {},
   "outputs": [],
   "source": [
    "for i in range(len(train_labels)):\n",
    "    x = train_labels[i]\n",
    "    if x > 6:\n",
    "        train_labels[i] = 0\n",
    "    elif x == 5:\n",
    "        train_labels[i] = 1\n",
    "    elif x== 6:\n",
    "        train_labels[i] = 1\n",
    "    else:\n",
    "        train_labels[i] = 2\n",
    "        \n",
    "for i in range(len(test_labels)):\n",
    "    x = test_labels[i]\n",
    "    if x > 6:\n",
    "        test_labels[i] = 0\n",
    "    elif x == 5:\n",
    "        test_labels[i] = 1\n",
    "    elif x== 6:\n",
    "        test_labels[i] = 1\n",
    "    else:\n",
    "        test_labels[i] = 2"
   ]
  },
  {
   "cell_type": "markdown",
   "metadata": {},
   "source": [
    "### Converting labels \n",
    "By using the to_categorical function, you are able to convert a class vector (integers) to binary class matrix."
   ]
  },
  {
   "cell_type": "code",
   "execution_count": 7,
   "metadata": {},
   "outputs": [
    {
     "name": "stdout",
     "output_type": "stream",
     "text": [
      "Shape of train data tensor: (161297, 200)\n",
      "Shape of train label tensor: (161297, 3)\n",
      "Shape of test data tensor:  (53766, 200)\n",
      "Shape of test labels tensor:  (53766, 3)\n"
     ]
    }
   ],
   "source": [
    "train_labels = to_categorical(np.asarray(train_labels))\n",
    "print('Shape of train data tensor:', train_data.shape)\n",
    "print('Shape of train label tensor:', train_labels.shape)\n",
    "\n",
    "test_labels = to_categorical(np.asarray(test_labels))\n",
    "print('Shape of test data tensor: ', test_data.shape)\n",
    "print('Shape of test labels tensor: ', test_labels.shape)"
   ]
  },
  {
   "cell_type": "markdown",
   "metadata": {},
   "source": [
    "### Splitting training data\n",
    "The training data is split into as follows: <br><b>\n",
    "- 75% training \n",
    "- 25% test</b>"
   ]
  },
  {
   "cell_type": "code",
   "execution_count": 8,
   "metadata": {},
   "outputs": [],
   "source": [
    "VALIDATION_SPLIT = 0.25\n",
    "\n",
    "# split the data into a training set and a validation set\n",
    "indices = np.arange(train_data.shape[0])\n",
    "np.random.shuffle(indices)\n",
    "train_data = train_data[indices]\n",
    "train_labels = train_labels[indices]\n",
    "nb_validation_samples = int(VALIDATION_SPLIT * train_data.shape[0])\n",
    "\n",
    "x_train = train_data[:-nb_validation_samples]\n",
    "y_train = train_labels[:-nb_validation_samples]\n",
    "x_val = train_data[-nb_validation_samples:]\n",
    "y_val = train_labels[-nb_validation_samples:]"
   ]
  },
  {
   "cell_type": "markdown",
   "metadata": {},
   "source": [
    "## Model\n",
    "### Model 1\n",
    "The model used is a 1D Convolutional Neural Network (CNN). This model was inspired by the example Sakari gave in Kaggle. This model uses 1D CNN because it is works well for identifying simple patterns within your data which will then be used to form more complex patterns within higher layers. A 1D CNN is very effective when you expect to derive interesting features from shorter (fixed-length) segments of the overall data set and where the location of the feature within the segment is not of high relevance. The 1D CNN shares similar characteristics to its 2D and 3D counterparts, the only real difference being that the key difference is the dimensionality of the input data and how the filter slides across the data.\n",
    "\n",
    "This model incorporates an Embedding layer to ensure that the resulting embedded vectors are representations of categories where similar categories — relative to the task — are closer to one another.In addition it also decreases the dimensionability of the vectors, making it manageable and saves memory. \n",
    "\n",
    "The MaxPooling layer is added to help over-fitting by providing an abstracted form of the representation because it reduces the dimensionality and allowing for assumptions to be made about features contained in the sub-regions binned."
   ]
  },
  {
   "cell_type": "code",
   "execution_count": 9,
   "metadata": {},
   "outputs": [
    {
     "name": "stdout",
     "output_type": "stream",
     "text": [
      "Model: \"sequential\"\n",
      "_________________________________________________________________\n",
      "Layer (type)                 Output Shape              Param #   \n",
      "=================================================================\n",
      "embedding (Embedding)        (None, 200, 16)           80000     \n",
      "_________________________________________________________________\n",
      "conv1d (Conv1D)              (None, 198, 32)           1568      \n",
      "_________________________________________________________________\n",
      "max_pooling1d (MaxPooling1D) (None, 66, 32)            0         \n",
      "_________________________________________________________________\n",
      "conv1d_1 (Conv1D)            (None, 64, 64)            6208      \n",
      "_________________________________________________________________\n",
      "max_pooling1d_1 (MaxPooling1 (None, 21, 64)            0         \n",
      "_________________________________________________________________\n",
      "conv1d_2 (Conv1D)            (None, 19, 128)           24704     \n",
      "_________________________________________________________________\n",
      "max_pooling1d_2 (MaxPooling1 (None, 6, 128)            0         \n",
      "_________________________________________________________________\n",
      "conv1d_3 (Conv1D)            (None, 4, 128)            49280     \n",
      "_________________________________________________________________\n",
      "global_max_pooling1d (Global (None, 128)               0         \n",
      "_________________________________________________________________\n",
      "flatten (Flatten)            (None, 128)               0         \n",
      "_________________________________________________________________\n",
      "dropout (Dropout)            (None, 128)               0         \n",
      "_________________________________________________________________\n",
      "dense (Dense)                (None, 128)               16512     \n",
      "_________________________________________________________________\n",
      "dense_1 (Dense)              (None, 3)                 387       \n",
      "=================================================================\n",
      "Total params: 178,659\n",
      "Trainable params: 178,659\n",
      "Non-trainable params: 0\n",
      "_________________________________________________________________\n"
     ]
    }
   ],
   "source": [
    "model = Sequential()\n",
    "model.add(Embedding(5000, 16, input_length = 200))\n",
    "model.add(Conv1D(32, 3, activation = 'relu', input_shape = (200,)))\n",
    "model.add(MaxPooling1D(3,3))\n",
    "model.add(Conv1D(64, 3, activation = 'relu'))\n",
    "model.add(MaxPooling1D(3,3))\n",
    "model.add(Conv1D(128, 3, activation = 'relu'))\n",
    "model.add(MaxPooling1D(3,3))\n",
    "model.add(Conv1D(128, 3, activation = 'relu'))\n",
    "model.add(GlobalMaxPooling1D())\n",
    "model.add(Flatten())\n",
    "model.add(Dropout(0.5))\n",
    "model.add(Dense(128, activation = 'relu'))\n",
    "model.add(Dense(3, activation = 'softmax'))\n",
    "\n",
    "model.summary()"
   ]
  },
  {
   "cell_type": "markdown",
   "metadata": {},
   "source": [
    "### Compiling \n",
    "After several iterations, we found that the 'Adam' optimizer produced the best results for this paticular model."
   ]
  },
  {
   "cell_type": "code",
   "execution_count": 10,
   "metadata": {},
   "outputs": [],
   "source": [
    "model.compile(optimizer = 'adam',\n",
    "             loss = 'categorical_crossentropy',\n",
    "             metrics = ['acc'])"
   ]
  },
  {
   "cell_type": "markdown",
   "metadata": {},
   "source": [
    "### Training model 1\n",
    "The model was trained with a batch size of 128 and an epoch of 5. This was proven to have the best results in this particular case because ovefitting was observed after the model surpassed 5 epochs. Due to the high number of batch size and low number of epochs, the model also trained faster."
   ]
  },
  {
   "cell_type": "code",
   "execution_count": 11,
   "metadata": {},
   "outputs": [
    {
     "name": "stdout",
     "output_type": "stream",
     "text": [
      "The accuracy achieved is:  [0.7288238, 0.78757244, 0.8093376, 0.82454765, 0.83879876]\n",
      "The loss achieved is:  [0.6874930012076617, 0.5661139264820432, 0.5130147283382799, 0.46893956031998807, 0.42634457141656384]\n",
      "Wall time: 8min 49s\n"
     ]
    }
   ],
   "source": [
    "%%time\n",
    "history = model.fit(x_train, y_train,\n",
    "                   batch_size = 128,\n",
    "                   epochs = 5,\n",
    "                   validation_data = (x_val, y_val),\n",
    "                   verbose = 0)\n",
    "\n",
    "print(\"The accuracy achieved is: \", history.history['acc'])\n",
    "print(\"The loss achieved is: \", history.history['loss'])"
   ]
  },
  {
   "cell_type": "code",
   "execution_count": 12,
   "metadata": {},
   "outputs": [
    {
     "data": {
      "image/png": "[encoded data removed]",
      "text/plain": [
       "<Figure size 432x288 with 1 Axes>"
      ]
     },
     "metadata": {
      "needs_background": "light"
     },
     "output_type": "display_data"
    },
    {
     "data": {
      "image/png": "[encoded data removed]",
      "text/plain": [
       "<Figure size 432x288 with 1 Axes>"
      ]
     },
     "metadata": {
      "needs_background": "light"
     },
     "output_type": "display_data"
    }
   ],
   "source": [
    "# Plot the accuracy and loss\n",
    "acc = history.history['acc']\n",
    "val_acc = history.history['val_acc']\n",
    "loss = history.history['loss']\n",
    "val_loss = history.history['val_loss']\n",
    "e = arange(len(acc)) + 1\n",
    "\n",
    "plot(e, acc, label = 'train')\n",
    "plot(e, val_acc, label = 'validation')\n",
    "title('Training and validation accuracy')\n",
    "xlabel('Epoch')\n",
    "grid()\n",
    "legend()\n",
    "\n",
    "figure()\n",
    "\n",
    "plot(e, loss, label = 'train')\n",
    "plot(e, val_loss, label = 'validation')\n",
    "title('Training and validation loss')\n",
    "xlabel('Epoch')\n",
    "grid()\n",
    "legend()\n",
    "\n",
    "show()"
   ]
  },
  {
   "cell_type": "markdown",
   "metadata": {},
   "source": [
    "## Evaluating model 1\n",
    "The model's performance was observed and evaluated using different evaluation methods. <br>\n",
    "- Confusion matrix: Summary of prediction results on a classification problem. The number of correct and incorrect predictions are summarized with count values and broken down by each class. \n",
    "- Classification report: A Classification report is used to measure the quality of predictions from a classification algorithm. How many predictions are True and how many are False.\n",
    "- Cohen's kappa: Measures interrater reliability (sometimes called interobserver agreement). Interrater reliability, or precision, happens when your data raters (or collectors) give the same score to the same data item"
   ]
  },
  {
   "cell_type": "code",
   "execution_count": 13,
   "metadata": {},
   "outputs": [
    {
     "name": "stdout",
     "output_type": "stream",
     "text": [
      "Confusion matrix:\n",
      "[[25329  2399  3141]\n",
      " [   35    29    42]\n",
      " [ 1384  1116  6849]]\n",
      "Classification report:\n",
      "              precision    recall  f1-score   support\n",
      "\n",
      "           0       0.82      0.95      0.88     26748\n",
      "           1       0.27      0.01      0.02      3544\n",
      "           2       0.73      0.68      0.71     10032\n",
      "\n",
      "    accuracy                           0.80     40324\n",
      "   macro avg       0.61      0.55      0.53     40324\n",
      "weighted avg       0.75      0.80      0.76     40324\n",
      "\n"
     ]
    }
   ],
   "source": [
    "# Find the predicted values for the validation set\n",
    "y_pred = argmax(model.predict(x_val), axis = 1)\n",
    "y_true = argmax(y_val, axis = 1)\n",
    "\n",
    "# Calculate the confusion matrix\n",
    "cm = confusion_matrix(y_true, y_pred).T\n",
    "print('Confusion matrix:')\n",
    "print(cm)\n",
    "\n",
    "# Calculate the classification report\n",
    "cr = classification_report(y_true, y_pred)\n",
    "print('Classification report:')\n",
    "print(cr)"
   ]
  },
  {
   "cell_type": "code",
   "execution_count": 15,
   "metadata": {},
   "outputs": [
    {
     "name": "stdout",
     "output_type": "stream",
     "text": [
      "Cohen's kappa (linear)    = 0.537\n",
      "Cohen's kappa (quadratic) = 0.633\n"
     ]
    }
   ],
   "source": [
    "# Calculate the cohen's kappa, both with linear and quadratic weights\n",
    "k = cohen_kappa_score(y_true, y_pred)\n",
    "print(f\"Cohen's kappa (linear)    = {k:.3f}\")\n",
    "k2 = cohen_kappa_score(y_true, y_pred, weights = 'quadratic')\n",
    "print(f\"Cohen's kappa (quadratic) = {k2:.3f}\")"
   ]
  },
  {
   "cell_type": "code",
   "execution_count": 16,
   "metadata": {},
   "outputs": [
    {
     "data": {
      "text/plain": [
       "[0.5489263604409469, 0.79846]"
      ]
     },
     "execution_count": 16,
     "metadata": {},
     "output_type": "execute_result"
    }
   ],
   "source": [
    "model.evaluate(test_data, \n",
    "               test_labels, \n",
    "               verbose = 0)"
   ]
  },
  {
   "cell_type": "code",
   "execution_count": 17,
   "metadata": {},
   "outputs": [
    {
     "name": "stdout",
     "output_type": "stream",
     "text": [
      "Test sample 5 : predicted 0 true 2\n"
     ]
    }
   ],
   "source": [
    "pred_tensor = model.predict(test_data) \n",
    "for imnum in range(len(test_data)):\n",
    "    predicted = np.argmax(pred_tensor[imnum])\n",
    "    true = np.argmax(test_labels[imnum])\n",
    "    if (predicted != true):\n",
    "        break\n",
    "\n",
    "print(\"Test sample\",imnum,\": predicted\",predicted,\"true\",true)"
   ]
  },
  {
   "cell_type": "markdown",
   "metadata": {},
   "source": [
    "## Results and Discussion\n",
    "From the results obtained above, several things can be concluded <br>\n",
    "- The classification report shows that the model's ability to predict positive and negative ratings are decent however its ability to predict neutral ratings are poor. \n",
    "- From the cohen kappa's coefficient, the value obtained shows that there is a moderate agreement between the two interrators\n",
    "- The model performed well when it was given unseen data. The accuracy and loss for the trained data were 0.84 and 0.43 respectively. The values obtained for test data were 0.80 and 0.55 for both accuracy and loss respectively.\n",
    "- Compared to model 2, using CNN proved to be much faster - 8 min 59s wall time - whereas using LSTM took 37 mins. However, overall accuracy and loss was better in the LSTM model - 0.82 and 0.49 for both accuracy and loss respectively. "
   ]
  },
  {
   "cell_type": "markdown",
   "metadata": {},
   "source": [
    "## Conclusion \n",
    "This model used 1D CNN to train and evaluate text data. It has its strength and weaknesses. This model was much trained much faster than the LSTM model. The accuracy and loss were decent and it predicted positive reviews decently. However, in terms of performance, the LSTM had better accuracy and loss values. The model's ability to predict neutral and negative values were sub par, especially neutral values that had values of 0.27 and 0.01 for both precision and recall respectively. "
   ]
  }
 ],
 "metadata": {
  "kernelspec": {
   "display_name": "Python 3",
   "language": "python",
   "name": "python3"
  },
  "language_info": {
   "codemirror_mode": {
    "name": "ipython",
    "version": 3
   },
   "file_extension": ".py",
   "mimetype": "text/x-python",
   "name": "python",
   "nbconvert_exporter": "python",
   "pygments_lexer": "ipython3",
   "version": "3.7.4"
  }
 },
 "nbformat": 4,
 "nbformat_minor": 2
}
